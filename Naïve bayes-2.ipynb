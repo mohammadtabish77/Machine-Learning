{
 "cells": [
  {
   "cell_type": "markdown",
   "id": "26e6d9b7-c90f-4d2f-8a1a-706dbb48d267",
   "metadata": {},
   "source": [
    "### Q1. Probability of Being a Smoker Given Health Insurance Plan\n",
    "\n",
    "To find the probability that an employee is a smoker given that they use the company's health insurance plan, we can use Bayes' Theorem.\n",
    "\n",
    "Let:\n",
    "- \\( P(I) \\) = Probability of using the health insurance plan = 0.70\n",
    "- \\( P(S | I) \\) = Probability of being a smoker given using the plan = 0.40\n",
    "\n",
    "We need to find \\( P(S | I) \\), which is already given as 0.40. So the answer is:\n",
    "\n",
    "\\[ P(S | I) = 0.40 \\]\n",
    "\n",
    "### Q2. Difference Between Bernoulli Naive Bayes and Multinomial Naive Bayes\n",
    "\n",
    "**Bernoulli Naive Bayes** and **Multinomial Naive Bayes** are two types of Naive Bayes classifiers used for different types of data:\n",
    "\n",
    "- **Bernoulli Naive Bayes**:\n",
    "  - Assumes binary/boolean features (0 or 1).\n",
    "  - Useful for binary or presence/absence data.\n",
    "  - Models the probability of features as Bernoulli-distributed (i.e., binary outcomes).\n",
    "\n",
    "- **Multinomial Naive Bayes**:\n",
    "  - Assumes features follow a multinomial distribution.\n",
    "  - Suitable for data where features are counts or frequencies (e.g., word counts in text classification).\n",
    "  - Models the probability of features as counts in different classes.\n",
    "\n",
    "### Q3. Handling Missing Values in Bernoulli Naive Bayes\n",
    "\n",
    "Bernoulli Naive Bayes doesn't handle missing values directly. Common strategies to address missing values before applying Bernoulli Naive Bayes include:\n",
    "\n",
    "- **Imputation**: Fill missing values with the mean, median, or mode of the available data.\n",
    "- **Drop**: Remove rows with missing values.\n",
    "- **Create a Missing Indicator**: Introduce an additional feature to indicate missingness.\n",
    "\n",
    "### Q4. Gaussian Naive Bayes for Multi-class Classification\n",
    "\n",
    "Yes, **Gaussian Naive Bayes** can be used for multi-class classification. It assumes that the features follow a Gaussian distribution and can handle multiple classes by applying the same Gaussian distribution assumption to each class."
   ]
  },
  {
   "cell_type": "markdown",
   "id": "a03fb078-6787-464e-a900-d623613615f7",
   "metadata": {},
   "source": [
    "### Discussion and Conclusion\n",
    "\n",
    "1. **Discussion**:\n",
    "   - Compare the performance metrics for each classifier.\n",
    "   - Discuss which Naive Bayes variant performed the best and why.\n",
    "   - Address any limitations of Naive Bayes observed during evaluation.\n",
    "\n",
    "2. **Conclusion**:\n",
    "   - Summarize findings and suggest improvements or future work.\n",
    "\n",
    "n"
   ]
  },
  {
   "cell_type": "code",
   "execution_count": null,
   "id": "e2081fb1-066c-405a-94a2-c1cf7bf2be48",
   "metadata": {},
   "outputs": [],
   "source": [
    "import pandas as pd\n",
    "from sklearn.model_selection import train_test_split\n",
    "\n",
    "# Path to the dataset\n",
    "file_path = 'work/spambase.data'  # Update this path to where you saved the file\n",
    "\n",
    "# Load the dataset\n",
    "df = pd.read_csv(file_path, header=None)\n",
    "\n",
    "# Display the first few rows of the dataframe to understand its structure\n",
    "df.head()\n"
   ]
  },
  {
   "cell_type": "code",
   "execution_count": null,
   "id": "2cca0647-7353-4c6e-a587-404342b4618d",
   "metadata": {},
   "outputs": [],
   "source": [
    "# Define feature names and target column\n",
    "num_features = df.shape[1] - 1  # Number of features (one less than the number of columns)\n",
    "feature_names = [f'feature_{i}' for i in range(num_features)]\n",
    "df.columns = feature_names + ['label']  # Add a label column\n",
    "\n",
    "# Split into features and target\n",
    "X = df[feature_names]\n",
    "y = df['label']\n",
    "\n",
    "# Split the data into training and test sets\n",
    "X_train, X_test, y_train, y_test = train_test_split(X, y, test_size=0.2, random_state=42)\n"
   ]
  },
  {
   "cell_type": "code",
   "execution_count": null,
   "id": "441908b1-c65f-49ad-8949-f57e68a493f8",
   "metadata": {},
   "outputs": [],
   "source": [
    "from sklearn.naive_bayes import BernoulliNB, MultinomialNB, GaussianNB\n",
    "from sklearn.model_selection import cross_val_score\n",
    "from sklearn.metrics import precision_score, recall_score, f1_score\n",
    "\n",
    "# Initialize classifiers\n",
    "bnb = BernoulliNB()\n",
    "mnb = MultinomialNB()\n",
    "gnb = GaussianNB()\n",
    "\n",
    "# Function to perform 10-fold cross-validation and report metrics\n",
    "def evaluate_classifier(clf, X, y):\n",
    "    accuracy = cross_val_score(clf, X, y, cv=10, scoring='accuracy').mean()\n",
    "    precision = cross_val_score(clf, X, y, cv=10, scoring='precision').mean()\n",
    "    recall = cross_val_score(clf, X, y, cv=10, scoring='recall').mean()\n",
    "    f1 = cross_val_score(clf, X, y, cv=10, scoring='f1').mean()\n",
    "    return accuracy, precision, recall, f1\n",
    "\n",
    "# Evaluate each classifier\n",
    "bnb_metrics = evaluate_classifier(bnb, X, y)\n",
    "mnb_metrics = evaluate_classifier(mnb, X, y)\n",
    "gnb_metrics = evaluate_classifier(gnb, X, y)\n",
    "\n",
    "# Print the metrics for each classifier\n",
    "print(\"Bernoulli Naive Bayes Metrics:\")\n",
    "print(f\"Accuracy: {bnb_metrics[0]}\")\n",
    "print(f\"Precision: {bnb_metrics[1]}\")\n",
    "print(f\"Recall: {bnb_metrics[2]}\")\n",
    "print(f\"F1 Score: {bnb_metrics[3]}\")\n",
    "\n",
    "print(\"\\nMultinomial Naive Bayes Metrics:\")\n",
    "print(f\"Accuracy: {mnb_metrics[0]}\")\n",
    "print(f\"Precision: {mnb_metrics[1]}\")\n",
    "print(f\"Recall: {mnb_metrics[2]}\")\n",
    "print(f\"F1 Score: {mnb_metrics[3]}\")\n",
    "\n",
    "print(\"\\nGaussian Naive Bayes Metrics:\")\n",
    "print(f\"Accuracy: {gnb_metrics[0]}\")\n",
    "print(f\"Precision: {gnb_metrics[1]}\")\n",
    "print(f\"Recall: {gnb_metrics[2]}\")\n",
    "print(f\"F1 Score: {gnb_metrics[3]}\")\n"
   ]
  },
  {
   "cell_type": "markdown",
   "id": "93650983-0506-4604-b24f-435959120999",
   "metadata": {},
   "source": [
    "**Discussion**\n",
    " - Compare the Metrics: Review the accuracy, precision, recall, and F1 scores for each classifier.\n",
    "   Determine the Best Performer: The classifier with the highest F1 score (which balances precision and recall) is generally considered the best.\n",
    "   Discuss Limitations: Note any limitations of Naive Bayes classifiers, such as their assumptions of feature independence and the potential impact of feature correlations.\n",
    "\n",
    "**Conclusion**\n",
    "  - Summarize Findings: Conclude which Naive Bayes variant performed the best and why.\n",
    "    Suggestions for Future Work: Suggest potential improvements or alternative approaches, such as using more advanced     classifiers or feature engineering."
   ]
  },
  {
   "cell_type": "code",
   "execution_count": null,
   "id": "e0776191-8006-44cd-90f3-cf39e4329eb1",
   "metadata": {},
   "outputs": [],
   "source": []
  }
 ],
 "metadata": {
  "kernelspec": {
   "display_name": "Python 3 (ipykernel)",
   "language": "python",
   "name": "python3"
  },
  "language_info": {
   "codemirror_mode": {
    "name": "ipython",
    "version": 3
   },
   "file_extension": ".py",
   "mimetype": "text/x-python",
   "name": "python",
   "nbconvert_exporter": "python",
   "pygments_lexer": "ipython3",
   "version": "3.10.8"
  }
 },
 "nbformat": 4,
 "nbformat_minor": 5
}
