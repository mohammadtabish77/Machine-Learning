{
 "cells": [
  {
   "cell_type": "markdown",
   "id": "e92eea72-4f1a-4b2c-ad03-46c680e0228e",
   "metadata": {},
   "source": [
    "Q1. Explain the following with an example:\n",
    "   a) Artificial Intelligence (AI)\n",
    "   b) Machine Learning (ML)\n",
    "   c) Deep Learning (DL)\n",
    "\n",
    "**Artificial Intelligence (AI):**\n",
    "   Artificial Intelligence refers to the simulation of human intelligence in machines that are programmed to think like humans and mimic their actions. AI encompasses a broad range of techniques and applications aimed at creating systems that can perform tasks that would typically require human intelligence. Example: Natural Language Processing (NLP) algorithms that understand and generate human language, like chatbots.\n",
    "\n",
    "**Machine Learning (ML):**\n",
    "   Machine Learning is a subset of AI that involves the development of algorithms and statistical models that enable computers to learn from and make decisions or predictions based on data, without being explicitly programmed. Example: Email spam classification, where an algorithm learns from labeled examples (spam vs. non-spam emails) to classify new emails.\n",
    "\n",
    "**Deep Learning (DL):**\n",
    "   Deep Learning is a specialized subset of ML that uses neural networks with many layers (hence \"deep\") to learn hierarchical representations of data. DL algorithms have shown remarkable success in tasks such as image and speech recognition. Example: Image classification in autonomous vehicles, where a deep neural network learns to identify objects on the road."
   ]
  },
  {
   "cell_type": "markdown",
   "id": "40cc9a76-0c1c-494f-b5d5-e88dbd18b591",
   "metadata": {},
   "source": [
    "Q2. What is supervised learning? List some examples of supervised learning.\n",
    "\n",
    "**Supervised Learning:**\n",
    "   Supervised Learning is a type of machine learning where the model is trained on labeled data, meaning each input example is associated with a corresponding target or output label. The goal is to learn a mapping from inputs to outputs based on the labeled training data.\n",
    "\n",
    "Examples of supervised learning:\n",
    "- **Classification:** Predicting whether an email is spam or not.\n",
    "- **Regression:** Predicting the price of a house based on its features.\n",
    "- **Object Detection:** Identifying and labeling objects in images or videos."
   ]
  },
  {
   "cell_type": "markdown",
   "id": "2846a43e-cafb-4ea3-8795-4ee6c76d43a5",
   "metadata": {},
   "source": [
    "Q3. What is unsupervised learning? List some examples of unsupervised learning.\n",
    "\n",
    "**Unsupervised Learning:**\n",
    "   Unsupervised Learning is a type of machine learning where the model is trained on unlabeled data. The goal is to discover patterns, relationships, or structures in the data without specific target variables or output labels provided.\n",
    "\n",
    "Examples of unsupervised learning:\n",
    "- **Clustering:** Grouping similar customers based on their purchasing behaviors.\n",
    "- **Anomaly Detection:** Identifying unusual patterns that do not conform to expected behavior.\n",
    "- **Dimensionality Reduction:** Reducing the number of variables in a dataset while preserving its key features."
   ]
  },
  {
   "cell_type": "markdown",
   "id": "c106300d-22fb-4abe-b3d6-9e340ec147f5",
   "metadata": {},
   "source": [
    "Q4. What is the difference between AI, ML, DL, and DS?\n",
    "\n",
    "- **Artificial Intelligence (AI):** The broad field of computer science focused on creating systems capable of performing tasks that typically require human intelligence.\n",
    "- **Machine Learning (ML):** A subset of AI that involves developing algorithms to enable computers to learn from and make predictions or decisions based on data.\n",
    "- **Deep Learning (DL):** A specialized subset of ML that uses neural networks with many layers to learn hierarchical representations of data.\n",
    "- **Data Science (DS):** The interdisciplinary field that uses scientific methods, processes, algorithms, and systems to extract knowledge and insights from structured and unstructured data."
   ]
  },
  {
   "cell_type": "markdown",
   "id": "da050b09-3a2e-4439-a03f-022422c01f8b",
   "metadata": {},
   "source": [
    "Q5. What are the main differences between supervised, unsupervised, and semi-supervised learning?\n",
    "\n",
    "- **Supervised Learning:** Requires labeled training data, where each input example has a corresponding target or output label. The goal is to learn a mapping from inputs to outputs based on these labeled examples.\n",
    "- **Unsupervised Learning:** Involves training on unlabeled data. The goal is to discover patterns, structures, or relationships in the data without specific target variables provided.\n",
    "- **Semi-supervised Learning:** Uses a small amount of labeled data combined with a large amount of unlabeled data. The model learns from both the labeled and unlabeled data to make predictions or discover patterns."
   ]
  },
  {
   "cell_type": "markdown",
   "id": "03d6ee86-6fe9-4069-95f7-e871cf4c95aa",
   "metadata": {},
   "source": [
    "Q6. What is train-test-validation split? Explain the importance of each term.\n",
    "\n",
    "- **Train-Test-Validation Split:** \n",
    "   - **Training Set:** Used to train the machine learning model.\n",
    "   - **Validation Set:** Used to tune hyperparameters and evaluate model performance during training.\n",
    "   - **Test Set:** Used to provide an unbiased evaluation of the final model after training.\n",
    "\n",
    "**Importance:**\n",
    "   - **Training Set:** Crucial for teaching the model to learn from data and adjust its parameters.\n",
    "   - **Validation Set:** Helps in selecting the best model or tuning hyperparameters without overfitting to the test set.\n",
    "   - **Test Set:** Provides an unbiased estimate of model performance on unseen data, indicating how well the model generalizes."
   ]
  },
  {
   "cell_type": "markdown",
   "id": "5336b6a5-9aa8-4ec3-8179-aeb63d3e306e",
   "metadata": {},
   "source": [
    "Q7. How can unsupervised learning be used in anomaly detection?\n",
    "\n",
    "**Anomaly Detection with Unsupervised Learning:**\n",
    "   Unsupervised learning techniques such as clustering or autoencoders can be used for anomaly detection:\n",
    "   - **Clustering:** Grouping data points into clusters where anomalies are data points that do not fit well into any cluster.\n",
    "   - **Autoencoders:** Neural networks trained to reconstruct input data can detect anomalies by identifying data points that are difficult to reconstruct accurately."
   ]
  },
  {
   "cell_type": "markdown",
   "id": "ca05f5bb-a5a8-416d-93e8-a6a003ac8ec1",
   "metadata": {},
   "source": [
    "Q8. List down some commonly used supervised learning algorithms and unsupervised learning algorithms.\n",
    "\n",
    "**Supervised Learning Algorithms:**\n",
    "- **Classification:** Logistic Regression, Decision Trees, Random Forests, Support Vector Machines (SVM), Neural Networks.\n",
    "- **Regression:** Linear Regression, Ridge Regression, Lasso Regression, Gradient Boosting Machines (GBM).\n",
    "\n",
    "**Unsupervised Learning Algorithms:**\n",
    "- **Clustering:** K-means Clustering, Hierarchical Clustering, DBSCAN (Density-Based Spatial Clustering of Applications with Noise).\n",
    "- **Dimensionality Reduction:** Principal Component Analysis (PCA), t-Distributed Stochastic Neighbor Embedding (t-SNE), Autoencoders.\n",
    "\n"
   ]
  },
  {
   "cell_type": "code",
   "execution_count": null,
   "id": "2122f366-e9ae-4b9b-a4e4-ac51798e9437",
   "metadata": {},
   "outputs": [],
   "source": []
  }
 ],
 "metadata": {
  "kernelspec": {
   "display_name": "Python 3 (ipykernel)",
   "language": "python",
   "name": "python3"
  },
  "language_info": {
   "codemirror_mode": {
    "name": "ipython",
    "version": 3
   },
   "file_extension": ".py",
   "mimetype": "text/x-python",
   "name": "python",
   "nbconvert_exporter": "python",
   "pygments_lexer": "ipython3",
   "version": "3.10.8"
  }
 },
 "nbformat": 4,
 "nbformat_minor": 5
}
